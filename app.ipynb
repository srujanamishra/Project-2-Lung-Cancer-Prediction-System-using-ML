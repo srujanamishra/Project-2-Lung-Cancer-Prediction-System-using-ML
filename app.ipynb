{
 "cells": [
  {
   "cell_type": "code",
   "execution_count": 1,
   "id": "2c5bdef4-1fc1-4cef-944a-2752652983fc",
   "metadata": {},
   "outputs": [
    {
     "name": "stdout",
     "output_type": "stream",
     "text": [
      "Collecting fastapi\n",
      "  Using cached fastapi-0.115.12-py3-none-any.whl.metadata (27 kB)\n",
      "Collecting uvicorn\n",
      "  Using cached uvicorn-0.34.0-py3-none-any.whl.metadata (6.5 kB)\n",
      "Requirement already satisfied: nest_asyncio in c:\\users\\kiit\\anaconda3\\lib\\site-packages (1.6.0)\n",
      "Collecting starlette<0.47.0,>=0.40.0 (from fastapi)\n",
      "  Using cached starlette-0.46.1-py3-none-any.whl.metadata (6.2 kB)\n",
      "Requirement already satisfied: pydantic!=1.8,!=1.8.1,!=2.0.0,!=2.0.1,!=2.1.0,<3.0.0,>=1.7.4 in c:\\users\\kiit\\anaconda3\\lib\\site-packages (from fastapi) (2.8.2)\n",
      "Requirement already satisfied: typing-extensions>=4.8.0 in c:\\users\\kiit\\anaconda3\\lib\\site-packages (from fastapi) (4.11.0)\n",
      "Requirement already satisfied: click>=7.0 in c:\\users\\kiit\\anaconda3\\lib\\site-packages (from uvicorn) (8.1.7)\n",
      "Requirement already satisfied: h11>=0.8 in c:\\users\\kiit\\anaconda3\\lib\\site-packages (from uvicorn) (0.14.0)\n",
      "Requirement already satisfied: colorama in c:\\users\\kiit\\anaconda3\\lib\\site-packages (from click>=7.0->uvicorn) (0.4.6)\n",
      "Requirement already satisfied: annotated-types>=0.4.0 in c:\\users\\kiit\\anaconda3\\lib\\site-packages (from pydantic!=1.8,!=1.8.1,!=2.0.0,!=2.0.1,!=2.1.0,<3.0.0,>=1.7.4->fastapi) (0.6.0)\n",
      "Requirement already satisfied: pydantic-core==2.20.1 in c:\\users\\kiit\\anaconda3\\lib\\site-packages (from pydantic!=1.8,!=1.8.1,!=2.0.0,!=2.0.1,!=2.1.0,<3.0.0,>=1.7.4->fastapi) (2.20.1)\n",
      "Requirement already satisfied: anyio<5,>=3.6.2 in c:\\users\\kiit\\anaconda3\\lib\\site-packages (from starlette<0.47.0,>=0.40.0->fastapi) (4.2.0)\n",
      "Requirement already satisfied: idna>=2.8 in c:\\users\\kiit\\anaconda3\\lib\\site-packages (from anyio<5,>=3.6.2->starlette<0.47.0,>=0.40.0->fastapi) (3.7)\n",
      "Requirement already satisfied: sniffio>=1.1 in c:\\users\\kiit\\anaconda3\\lib\\site-packages (from anyio<5,>=3.6.2->starlette<0.47.0,>=0.40.0->fastapi) (1.3.0)\n",
      "Using cached fastapi-0.115.12-py3-none-any.whl (95 kB)\n",
      "Using cached uvicorn-0.34.0-py3-none-any.whl (62 kB)\n",
      "Using cached starlette-0.46.1-py3-none-any.whl (71 kB)\n",
      "Installing collected packages: uvicorn, starlette, fastapi\n",
      "Successfully installed fastapi-0.115.12 starlette-0.46.1 uvicorn-0.34.0\n"
     ]
    }
   ],
   "source": [
    "!pip install fastapi uvicorn nest_asyncio\n",
    "\n"
   ]
  },
  {
   "cell_type": "code",
   "execution_count": 3,
   "id": "c0349d2b-0817-4a1b-b5a6-43654bbae620",
   "metadata": {},
   "outputs": [],
   "source": [
    "import nest_asyncio\n",
    "from fastapi import FastAPI\n",
    "from pydantic import BaseModel\n",
    "import pickle\n",
    "import numpy as np\n",
    "import uvicorn\n",
    "\n",
    "# Apply nest_asyncio to allow running an event loop within Jupyter\n",
    "nest_asyncio.apply()\n",
    "\n",
    "# Load the trained model\n",
    "model = pickle.load(open('lung_cancer_model.pkl', 'rb'))\n",
    "\n",
    "# Create FastAPI app\n",
    "app = FastAPI()\n",
    "\n",
    "# Define the request body for the input data\n",
    "class PatientData(BaseModel):\n",
    "    age: int\n",
    "    sex: int\n",
    "    smoking: int\n",
    "    yellow_fingers: int\n",
    "    anxiety: int\n",
    "    peer_pressure: int\n",
    "    chronic_disease: int\n",
    "    fatigue: int\n",
    "    allergy: int\n",
    "    wheezing: int\n",
    "    alcohol: int\n",
    "    cough: int\n",
    "    lung_cancer_family_history: int\n",
    "    shortness_of_breath: int\n",
    "    swallowing_difficulty: int\n",
    "    chest_pain: int\n",
    "\n",
    "# Define the prediction route\n",
    "@app.post('/predict')\n",
    "def predict(data: PatientData):\n",
    "    # Convert the input data to a numpy array for prediction\n",
    "    patient_features = np.array([[data.age, data.sex, data.smoking, data.yellow_fingers, \n",
    "                                  data.anxiety, data.peer_pressure, data.chronic_disease, \n",
    "                                  data.fatigue, data.allergy, data.wheezing, data.alcohol, \n",
    "                                  data.cough, data.lung_cancer_family_history, data.shortness_of_breath,\n",
    "                                  data.swallowing_difficulty, data.chest_pain]])\n",
    "    \n",
    "    # Make a prediction\n",
    "    prediction = model.predict(patient_features)\n",
    "    \n",
    "    # Return the prediction result as a JSON response\n",
    "    result = \"Cancer: Yes\" if prediction[0] == 1 else \"Cancer: No\"\n",
    "    return {\"prediction\": result}\n"
   ]
  },
  {
   "cell_type": "code",
   "execution_count": 5,
   "id": "dbd9239d-e75e-41ec-b839-385d5e1fb33c",
   "metadata": {},
   "outputs": [],
   "source": [
    "# Define the prediction route\n",
    "@app.post('/predict')\n",
    "def predict(data: PatientData):\n",
    "    # Convert the input data to a numpy array for prediction\n",
    "    patient_features = np.array([[data.age, data.sex, data.smoking, data.yellow_fingers, \n",
    "                                  data.anxiety, data.peer_pressure, data.chronic_disease, \n",
    "                                  data.fatigue, data.allergy, data.wheezing, data.alcohol, \n",
    "                                  data.cough, data.lung_cancer_family_history, data.shortness_of_breath,\n",
    "                                  data.swallowing_difficulty, data.chest_pain]])\n",
    "    \n",
    "    # Make a prediction\n",
    "    prediction = model.predict(patient_features)\n",
    "    \n",
    "    # Return the prediction result as a JSON response\n",
    "    result = \"Cancer: Yes\" if prediction[0] == 1 else \"Cancer: No\"\n",
    "    return {\"prediction\": result}\n"
   ]
  },
  {
   "cell_type": "code",
   "execution_count": null,
   "id": "57720116-78ec-444c-8017-24efd2bee545",
   "metadata": {},
   "outputs": [
    {
     "name": "stderr",
     "output_type": "stream",
     "text": [
      "INFO:     Started server process [10636]\n",
      "INFO:     Waiting for application startup.\n",
      "INFO:     Application startup complete.\n",
      "INFO:     Uvicorn running on http://127.0.0.1:8000 (Press CTRL+C to quit)\n"
     ]
    }
   ],
   "source": [
    "# Start FastAPI using Uvicorn\n",
    "uvicorn.run(app, host=\"127.0.0.1\", port=8000, loop=\"asyncio\")\n"
   ]
  },
  {
   "cell_type": "code",
   "execution_count": null,
   "id": "0a7eebe5-2a90-43f3-84e9-4193e6510719",
   "metadata": {},
   "outputs": [],
   "source": []
  }
 ],
 "metadata": {
  "kernelspec": {
   "display_name": "Python [conda env:base] *",
   "language": "python",
   "name": "conda-base-py"
  },
  "language_info": {
   "codemirror_mode": {
    "name": "ipython",
    "version": 3
   },
   "file_extension": ".py",
   "mimetype": "text/x-python",
   "name": "python",
   "nbconvert_exporter": "python",
   "pygments_lexer": "ipython3",
   "version": "3.12.7"
  }
 },
 "nbformat": 4,
 "nbformat_minor": 5
}
